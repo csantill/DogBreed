{
 "cells": [
  {
   "cell_type": "code",
   "execution_count": null,
   "metadata": {},
   "outputs": [],
   "source": []
  },
  {
   "cell_type": "code",
   "execution_count": null,
   "metadata": {},
   "outputs": [],
   "source": [
    "import numpy as np\n",
    "from glob import glob\n",
    "\n",
    "# load filenames for human and dog images\n",
    "#human_files = np.array(glob(\"data/lfw/*/*\"))\n",
    "dog_files = np.array(glob(\"data/train/*/*\"))\n",
    "\n",
    "# print number of images in each dataset\n",
    "#print('There are %d total human images.' % len(human_files))\n",
    "print('There are %d total dog images.' % len(dog_files))\n",
    "\n",
    "dog_files[1]"
   ]
  },
  {
   "cell_type": "markdown",
   "metadata": {},
   "source": []
  },
  {
   "cell_type": "code",
   "execution_count": 14,
   "metadata": {},
   "outputs": [],
   "source": [
    "import tensorflow_datasets as tfds\n",
    "import tensorflow as tf\n",
    "\n",
    "standford_data,info = tfds.load(\"stanford_dogs\",with_info=\"true\")\n",
    "\n",
    "mnist_train, mnist_test = mnist_data[\"train\"], mnist_data[\"test\"]\n",
    "\n",
    "assert isinstance(mnist_train, tf.data.Dataset)"
   ]
  },
  {
   "cell_type": "code",
   "execution_count": 15,
   "metadata": {},
   "outputs": [],
   "source": [
    "from tensorflow.keras.applications import vgg16"
   ]
  },
  {
   "cell_type": "code",
   "execution_count": 16,
   "metadata": {},
   "outputs": [
    {
     "name": "stdout",
     "output_type": "stream",
     "text": [
      "tf.Tensor(36, shape=(), dtype=int64)\n"
     ]
    }
   ],
   "source": [
    "for item in mnist_train.take(1):\n",
    "  #print(type(item))\n",
    "  #print(item.keys())\n",
    "  #print(item['image'])\n",
    "  print(item['label'])\n",
    "  break\n"
   ]
  },
  {
   "cell_type": "code",
   "execution_count": 17,
   "metadata": {},
   "outputs": [
    {
     "name": "stdout",
     "output_type": "stream",
     "text": [
      "tfds.core.DatasetInfo(\n",
      "    name='stanford_dogs',\n",
      "    full_name='stanford_dogs/0.2.0',\n",
      "    description=\"\"\"\n",
      "    The Stanford Dogs dataset contains images of 120 breeds of dogs from around\n",
      "    the world. This dataset has been built using images and annotation from\n",
      "    ImageNet for the task of fine-grained image categorization. There are\n",
      "    20,580 images, out of which 12,000 are used for training and 8580 for\n",
      "    testing. Class labels and bounding box annotations are provided\n",
      "    for all the 12,000 images.\n",
      "    \"\"\",\n",
      "    homepage='http://vision.stanford.edu/aditya86/ImageNetDogs/main.html',\n",
      "    data_path='/home/csantill/tensorflow_datasets/stanford_dogs/0.2.0',\n",
      "    download_size=778.12 MiB,\n",
      "    dataset_size=744.72 MiB,\n",
      "    features=FeaturesDict({\n",
      "        'image': Image(shape=(None, None, 3), dtype=tf.uint8),\n",
      "        'image/filename': Text(shape=(), dtype=tf.string),\n",
      "        'label': ClassLabel(shape=(), dtype=tf.int64, num_classes=120),\n",
      "        'objects': Sequence({\n",
      "            'bbox': BBoxFeature(shape=(4,), dtype=tf.float32),\n",
      "        }),\n",
      "    }),\n",
      "    supervised_keys=('image', 'label'),\n",
      "    disable_shuffling=False,\n",
      "    splits={\n",
      "        'test': <SplitInfo num_examples=8580, num_shards=4>,\n",
      "        'train': <SplitInfo num_examples=12000, num_shards=4>,\n",
      "    },\n",
      "    citation=\"\"\"@inproceedings{KhoslaYaoJayadevaprakashFeiFei_FGVC2011,\n",
      "    author = \"Aditya Khosla and Nityananda Jayadevaprakash and Bangpeng Yao and\n",
      "              Li Fei-Fei\",\n",
      "    title = \"Novel Dataset for Fine-Grained Image Categorization\",\n",
      "    booktitle = \"First Workshop on Fine-Grained Visual Categorization,\n",
      "                 IEEE Conference on Computer Vision and Pattern Recognition\",\n",
      "    year = \"2011\",\n",
      "    month = \"June\",\n",
      "    address = \"Colorado Springs, CO\",\n",
      "    }\n",
      "    @inproceedings{imagenet_cvpr09,\n",
      "            AUTHOR = {Deng, J. and Dong, W. and Socher, R. and Li, L.-J. and\n",
      "                      Li, K. and Fei-Fei, L.},\n",
      "            TITLE = {{ImageNet: A Large-Scale Hierarchical Image Database}},\n",
      "            BOOKTITLE = {CVPR09},\n",
      "            YEAR = {2009},\n",
      "            BIBSOURCE = \"http://www.image-net.org/papers/imagenet_cvpr09.bib\"}\"\"\",\n",
      ")\n"
     ]
    }
   ],
   "source": [
    "print(info)"
   ]
  },
  {
   "cell_type": "code",
   "execution_count": null,
   "metadata": {},
   "outputs": [],
   "source": []
  }
 ],
 "metadata": {
  "kernelspec": {
   "display_name": "Python 3",
   "language": "python",
   "name": "python3"
  },
  "language_info": {
   "codemirror_mode": {
    "name": "ipython",
    "version": 3
   },
   "file_extension": ".py",
   "mimetype": "text/x-python",
   "name": "python",
   "nbconvert_exporter": "python",
   "pygments_lexer": "ipython3",
   "version": "3.6.13"
  }
 },
 "nbformat": 4,
 "nbformat_minor": 2
}
